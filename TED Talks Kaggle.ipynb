{
 "cells": [
  {
   "cell_type": "markdown",
   "metadata": {},
   "source": [
    "# Exploring the TED Talks Kaggle [dataset](https://www.kaggle.com/rounakbanik/ted-talks)\n",
    "\n",
    "The purpose is to try and see what data could be useful for estimating `views` and/or `comments`."
   ]
  },
  {
   "cell_type": "code",
   "execution_count": 1,
   "metadata": {},
   "outputs": [],
   "source": [
    "# Import some libs and standard classes\n",
    "from collections import defaultdict\n",
    "import re\n",
    "\n",
    "import pandas as pd\n",
    "import matplotlib.pyplot as plt\n",
    "%matplotlib inline\n",
    "pd.set_option('display.max_columns', 30)"
   ]
  },
  {
   "cell_type": "code",
   "execution_count": 2,
   "metadata": {},
   "outputs": [],
   "source": [
    "# Implement some common util functions\n",
    "flatten = lambda l: [item for sublist in l for item in sublist]"
   ]
  },
  {
   "cell_type": "code",
   "execution_count": 3,
   "metadata": {},
   "outputs": [],
   "source": [
    "# Read and parse the data\n",
    "df = pd.read_csv('data/ted_main.csv')\n",
    "df['tags'] = df['tags'].apply(lambda tagsStr : tagsStr.replace(\"[\", \"\").replace(\"]\", \"\").replace(\"'\", \"\").split(\", \"))\n",
    "df['published_date_parsed'] = pd.to_datetime(df['published_date'], unit='s', utc=True)\n",
    "df['published_date_parsed'] = df['published_date_parsed'].map(lambda timestamp: timestamp.date())\n",
    "df['film_date_parsed'] = pd.to_datetime(df['film_date'], unit='s', utc=True)\n",
    "df['film_date_parsed'] = df['film_date_parsed'].map(lambda timestamp: timestamp.date())"
   ]
  },
  {
   "cell_type": "markdown",
   "metadata": {},
   "source": [
    "The `views` and `comments` by themselves do not constitute a sensible target value as they are heavily dependent on the age of the video (the time it was available online to be viewed and commented upon). We could of course directly target these and input the age of the video to our model, but it would unnecessarily complicated the task for it.   \n",
    "Hence, we will normalize these 2 attributes by the time the video was available online. This is a rough estimation based on the date the dataset was last updated."
   ]
  },
  {
   "cell_type": "code",
   "execution_count": 4,
   "metadata": {},
   "outputs": [],
   "source": [
    "# Calculate several normalized attributes for views and comments\n",
    "dataset_publish_time = 1506384000 # 09/26/2017 @ 00:00am (UTC), a rough estimation\n",
    "hour_seconds = 3600\n",
    "day_seconds = 24 * hour_seconds\n",
    "week_seconds = 7 * day_seconds\n",
    "df['views_per_hour_published'] = hour_seconds * df['views'] / (dataset_publish_time - df['published_date'])\n",
    "df['comments_per_week_published'] = week_seconds * df['comments'] / (dataset_publish_time - df['published_date'])\n",
    "df['comments_per_100k_views'] = 100000 * df['comments'] / df['views']"
   ]
  },
  {
   "cell_type": "markdown",
   "metadata": {},
   "source": [
    "The per hour, week, 100k intervals were chosen after experimenting, so that the new attributes have nicer ranges."
   ]
  },
  {
   "cell_type": "code",
   "execution_count": 5,
   "metadata": {},
   "outputs": [
    {
     "data": {
      "text/html": [
       "<div>\n",
       "<style scoped>\n",
       "    .dataframe tbody tr th:only-of-type {\n",
       "        vertical-align: middle;\n",
       "    }\n",
       "\n",
       "    .dataframe tbody tr th {\n",
       "        vertical-align: top;\n",
       "    }\n",
       "\n",
       "    .dataframe thead th {\n",
       "        text-align: right;\n",
       "    }\n",
       "</style>\n",
       "<table border=\"1\" class=\"dataframe\">\n",
       "  <thead>\n",
       "    <tr style=\"text-align: right;\">\n",
       "      <th></th>\n",
       "      <th>comments</th>\n",
       "      <th>description</th>\n",
       "      <th>duration</th>\n",
       "      <th>event</th>\n",
       "      <th>film_date</th>\n",
       "      <th>languages</th>\n",
       "      <th>main_speaker</th>\n",
       "      <th>name</th>\n",
       "      <th>num_speaker</th>\n",
       "      <th>published_date</th>\n",
       "      <th>ratings</th>\n",
       "      <th>related_talks</th>\n",
       "      <th>speaker_occupation</th>\n",
       "      <th>tags</th>\n",
       "      <th>title</th>\n",
       "      <th>url</th>\n",
       "      <th>views</th>\n",
       "      <th>published_date_parsed</th>\n",
       "      <th>film_date_parsed</th>\n",
       "      <th>views_per_hour_published</th>\n",
       "      <th>comments_per_week_published</th>\n",
       "      <th>comments_per_100k_views</th>\n",
       "    </tr>\n",
       "  </thead>\n",
       "  <tbody>\n",
       "    <tr>\n",
       "      <th>0</th>\n",
       "      <td>4553</td>\n",
       "      <td>Sir Ken Robinson makes an entertaining and pro...</td>\n",
       "      <td>1164</td>\n",
       "      <td>TED2006</td>\n",
       "      <td>1140825600</td>\n",
       "      <td>60</td>\n",
       "      <td>Ken Robinson</td>\n",
       "      <td>Ken Robinson: Do schools kill creativity?</td>\n",
       "      <td>1</td>\n",
       "      <td>1151367060</td>\n",
       "      <td>[{'id': 7, 'name': 'Funny', 'count': 19645}, {...</td>\n",
       "      <td>[{'id': 865, 'hero': 'https://pe.tedcdn.com/im...</td>\n",
       "      <td>Author/educator</td>\n",
       "      <td>[children, creativity, culture, dance, educati...</td>\n",
       "      <td>Do schools kill creativity?</td>\n",
       "      <td>https://www.ted.com/talks/ken_robinson_says_sc...</td>\n",
       "      <td>47227110</td>\n",
       "      <td>2006-06-27</td>\n",
       "      <td>2006-02-25</td>\n",
       "      <td>478.899953</td>\n",
       "      <td>7.756403</td>\n",
       "      <td>9.640649</td>\n",
       "    </tr>\n",
       "    <tr>\n",
       "      <th>1</th>\n",
       "      <td>265</td>\n",
       "      <td>With the same humor and humanity he exuded in ...</td>\n",
       "      <td>977</td>\n",
       "      <td>TED2006</td>\n",
       "      <td>1140825600</td>\n",
       "      <td>43</td>\n",
       "      <td>Al Gore</td>\n",
       "      <td>Al Gore: Averting the climate crisis</td>\n",
       "      <td>1</td>\n",
       "      <td>1151367060</td>\n",
       "      <td>[{'id': 7, 'name': 'Funny', 'count': 544}, {'i...</td>\n",
       "      <td>[{'id': 243, 'hero': 'https://pe.tedcdn.com/im...</td>\n",
       "      <td>Climate advocate</td>\n",
       "      <td>[alternative energy, cars, climate change, cul...</td>\n",
       "      <td>Averting the climate crisis</td>\n",
       "      <td>https://www.ted.com/talks/al_gore_on_averting_...</td>\n",
       "      <td>3200520</td>\n",
       "      <td>2006-06-27</td>\n",
       "      <td>2006-02-25</td>\n",
       "      <td>32.454429</td>\n",
       "      <td>0.451449</td>\n",
       "      <td>8.279905</td>\n",
       "    </tr>\n",
       "  </tbody>\n",
       "</table>\n",
       "</div>"
      ],
      "text/plain": [
       "   comments                                        description  duration  \\\n",
       "0      4553  Sir Ken Robinson makes an entertaining and pro...      1164   \n",
       "1       265  With the same humor and humanity he exuded in ...       977   \n",
       "\n",
       "     event   film_date  languages  main_speaker  \\\n",
       "0  TED2006  1140825600         60  Ken Robinson   \n",
       "1  TED2006  1140825600         43       Al Gore   \n",
       "\n",
       "                                        name  num_speaker  published_date  \\\n",
       "0  Ken Robinson: Do schools kill creativity?            1      1151367060   \n",
       "1       Al Gore: Averting the climate crisis            1      1151367060   \n",
       "\n",
       "                                             ratings  \\\n",
       "0  [{'id': 7, 'name': 'Funny', 'count': 19645}, {...   \n",
       "1  [{'id': 7, 'name': 'Funny', 'count': 544}, {'i...   \n",
       "\n",
       "                                       related_talks speaker_occupation  \\\n",
       "0  [{'id': 865, 'hero': 'https://pe.tedcdn.com/im...    Author/educator   \n",
       "1  [{'id': 243, 'hero': 'https://pe.tedcdn.com/im...   Climate advocate   \n",
       "\n",
       "                                                tags  \\\n",
       "0  [children, creativity, culture, dance, educati...   \n",
       "1  [alternative energy, cars, climate change, cul...   \n",
       "\n",
       "                         title  \\\n",
       "0  Do schools kill creativity?   \n",
       "1  Averting the climate crisis   \n",
       "\n",
       "                                                 url     views  \\\n",
       "0  https://www.ted.com/talks/ken_robinson_says_sc...  47227110   \n",
       "1  https://www.ted.com/talks/al_gore_on_averting_...   3200520   \n",
       "\n",
       "  published_date_parsed film_date_parsed  views_per_hour_published  \\\n",
       "0            2006-06-27       2006-02-25                478.899953   \n",
       "1            2006-06-27       2006-02-25                 32.454429   \n",
       "\n",
       "   comments_per_week_published  comments_per_100k_views  \n",
       "0                     7.756403                 9.640649  \n",
       "1                     0.451449                 8.279905  "
      ]
     },
     "execution_count": 5,
     "metadata": {},
     "output_type": "execute_result"
    }
   ],
   "source": [
    "#  Check the actual data\n",
    "df.head(2)"
   ]
  },
  {
   "cell_type": "code",
   "execution_count": 6,
   "metadata": {},
   "outputs": [
    {
     "data": {
      "text/html": [
       "<div>\n",
       "<style scoped>\n",
       "    .dataframe tbody tr th:only-of-type {\n",
       "        vertical-align: middle;\n",
       "    }\n",
       "\n",
       "    .dataframe tbody tr th {\n",
       "        vertical-align: top;\n",
       "    }\n",
       "\n",
       "    .dataframe thead th {\n",
       "        text-align: right;\n",
       "    }\n",
       "</style>\n",
       "<table border=\"1\" class=\"dataframe\">\n",
       "  <thead>\n",
       "    <tr style=\"text-align: right;\">\n",
       "      <th></th>\n",
       "      <th>comments</th>\n",
       "      <th>duration</th>\n",
       "      <th>film_date</th>\n",
       "      <th>languages</th>\n",
       "      <th>num_speaker</th>\n",
       "      <th>published_date</th>\n",
       "      <th>views</th>\n",
       "      <th>views_per_hour_published</th>\n",
       "      <th>comments_per_week_published</th>\n",
       "      <th>comments_per_100k_views</th>\n",
       "    </tr>\n",
       "  </thead>\n",
       "  <tbody>\n",
       "    <tr>\n",
       "      <th>count</th>\n",
       "      <td>2550.000000</td>\n",
       "      <td>2550.000000</td>\n",
       "      <td>2.550000e+03</td>\n",
       "      <td>2550.000000</td>\n",
       "      <td>2550.000000</td>\n",
       "      <td>2.550000e+03</td>\n",
       "      <td>2.550000e+03</td>\n",
       "      <td>2550.000000</td>\n",
       "      <td>2550.000000</td>\n",
       "      <td>2550.000000</td>\n",
       "    </tr>\n",
       "    <tr>\n",
       "      <th>mean</th>\n",
       "      <td>191.562353</td>\n",
       "      <td>826.510196</td>\n",
       "      <td>1.321928e+09</td>\n",
       "      <td>27.326275</td>\n",
       "      <td>1.028235</td>\n",
       "      <td>1.343525e+09</td>\n",
       "      <td>1.698297e+06</td>\n",
       "      <td>101.479333</td>\n",
       "      <td>1.065033</td>\n",
       "      <td>14.760930</td>\n",
       "    </tr>\n",
       "    <tr>\n",
       "      <th>std</th>\n",
       "      <td>282.315223</td>\n",
       "      <td>374.009138</td>\n",
       "      <td>1.197391e+08</td>\n",
       "      <td>9.563452</td>\n",
       "      <td>0.207705</td>\n",
       "      <td>9.464009e+07</td>\n",
       "      <td>2.498479e+06</td>\n",
       "      <td>276.368597</td>\n",
       "      <td>1.928086</td>\n",
       "      <td>16.071184</td>\n",
       "    </tr>\n",
       "    <tr>\n",
       "      <th>min</th>\n",
       "      <td>2.000000</td>\n",
       "      <td>135.000000</td>\n",
       "      <td>7.464960e+07</td>\n",
       "      <td>0.000000</td>\n",
       "      <td>1.000000</td>\n",
       "      <td>1.151367e+09</td>\n",
       "      <td>5.044300e+04</td>\n",
       "      <td>0.747603</td>\n",
       "      <td>0.018083</td>\n",
       "      <td>0.309514</td>\n",
       "    </tr>\n",
       "    <tr>\n",
       "      <th>25%</th>\n",
       "      <td>63.000000</td>\n",
       "      <td>577.000000</td>\n",
       "      <td>1.257466e+09</td>\n",
       "      <td>23.000000</td>\n",
       "      <td>1.000000</td>\n",
       "      <td>1.268463e+09</td>\n",
       "      <td>7.557928e+05</td>\n",
       "      <td>13.381237</td>\n",
       "      <td>0.307433</td>\n",
       "      <td>5.471637</td>\n",
       "    </tr>\n",
       "    <tr>\n",
       "      <th>50%</th>\n",
       "      <td>118.000000</td>\n",
       "      <td>848.000000</td>\n",
       "      <td>1.333238e+09</td>\n",
       "      <td>28.000000</td>\n",
       "      <td>1.000000</td>\n",
       "      <td>1.340935e+09</td>\n",
       "      <td>1.124524e+06</td>\n",
       "      <td>31.891948</td>\n",
       "      <td>0.598545</td>\n",
       "      <td>10.319986</td>\n",
       "    </tr>\n",
       "    <tr>\n",
       "      <th>75%</th>\n",
       "      <td>221.750000</td>\n",
       "      <td>1046.750000</td>\n",
       "      <td>1.412964e+09</td>\n",
       "      <td>33.000000</td>\n",
       "      <td>1.000000</td>\n",
       "      <td>1.423432e+09</td>\n",
       "      <td>1.700760e+06</td>\n",
       "      <td>83.281363</td>\n",
       "      <td>1.110579</td>\n",
       "      <td>17.741076</td>\n",
       "    </tr>\n",
       "    <tr>\n",
       "      <th>max</th>\n",
       "      <td>6404.000000</td>\n",
       "      <td>5256.000000</td>\n",
       "      <td>1.503792e+09</td>\n",
       "      <td>72.000000</td>\n",
       "      <td>5.000000</td>\n",
       "      <td>1.506092e+09</td>\n",
       "      <td>4.722711e+07</td>\n",
       "      <td>4836.426617</td>\n",
       "      <td>53.766273</td>\n",
       "      <td>221.960020</td>\n",
       "    </tr>\n",
       "  </tbody>\n",
       "</table>\n",
       "</div>"
      ],
      "text/plain": [
       "          comments     duration     film_date    languages  num_speaker  \\\n",
       "count  2550.000000  2550.000000  2.550000e+03  2550.000000  2550.000000   \n",
       "mean    191.562353   826.510196  1.321928e+09    27.326275     1.028235   \n",
       "std     282.315223   374.009138  1.197391e+08     9.563452     0.207705   \n",
       "min       2.000000   135.000000  7.464960e+07     0.000000     1.000000   \n",
       "25%      63.000000   577.000000  1.257466e+09    23.000000     1.000000   \n",
       "50%     118.000000   848.000000  1.333238e+09    28.000000     1.000000   \n",
       "75%     221.750000  1046.750000  1.412964e+09    33.000000     1.000000   \n",
       "max    6404.000000  5256.000000  1.503792e+09    72.000000     5.000000   \n",
       "\n",
       "       published_date         views  views_per_hour_published  \\\n",
       "count    2.550000e+03  2.550000e+03               2550.000000   \n",
       "mean     1.343525e+09  1.698297e+06                101.479333   \n",
       "std      9.464009e+07  2.498479e+06                276.368597   \n",
       "min      1.151367e+09  5.044300e+04                  0.747603   \n",
       "25%      1.268463e+09  7.557928e+05                 13.381237   \n",
       "50%      1.340935e+09  1.124524e+06                 31.891948   \n",
       "75%      1.423432e+09  1.700760e+06                 83.281363   \n",
       "max      1.506092e+09  4.722711e+07               4836.426617   \n",
       "\n",
       "       comments_per_week_published  comments_per_100k_views  \n",
       "count                  2550.000000              2550.000000  \n",
       "mean                      1.065033                14.760930  \n",
       "std                       1.928086                16.071184  \n",
       "min                       0.018083                 0.309514  \n",
       "25%                       0.307433                 5.471637  \n",
       "50%                       0.598545                10.319986  \n",
       "75%                       1.110579                17.741076  \n",
       "max                      53.766273               221.960020  "
      ]
     },
     "execution_count": 6,
     "metadata": {},
     "output_type": "execute_result"
    }
   ],
   "source": [
    "# Check stats for the distribution of numeric attributes\n",
    "df.describe()"
   ]
  },
  {
   "cell_type": "code",
   "execution_count": 7,
   "metadata": {},
   "outputs": [
    {
     "data": {
      "image/png": "[encoded data removed]",
      "text/plain": [
       "<Figure size 864x288 with 2 Axes>"
      ]
     },
     "metadata": {
      "needs_background": "light"
     },
     "output_type": "display_data"
    },
    {
     "data": {
      "image/png": "[encoded data removed]",
      "text/plain": [
       "<Figure size 864x288 with 2 Axes>"
      ]
     },
     "metadata": {
      "needs_background": "light"
     },
     "output_type": "display_data"
    },
    {
     "data": {
      "image/png": "[encoded data removed]",
      "text/plain": [
       "<Figure size 864x288 with 2 Axes>"
      ]
     },
     "metadata": {
      "needs_background": "light"
     },
     "output_type": "display_data"
    },
    {
     "data": {
      "image/png": "[encoded data removed]",
      "text/plain": [
       "<Figure size 864x288 with 2 Axes>"
      ]
     },
     "metadata": {
      "needs_background": "light"
     },
     "output_type": "display_data"
    },
    {
     "data": {
      "image/png": "[encoded data removed]",
      "text/plain": [
       "<Figure size 864x288 with 2 Axes>"
      ]
     },
     "metadata": {
      "needs_background": "light"
     },
     "output_type": "display_data"
    }
   ],
   "source": [
    "# Plot histograms and boxplots for views, comments and their normalized versions\n",
    "hist_attributes = ['views', 'comments', 'views_per_hour_published', 'comments_per_week_published', 'comments_per_100k_views']\n",
    "colors = { 'views': 'lightblue', 'comments': 'lightcoral', 'views_per_hour_published': 'blue', 'comments_per_week_published': 'red', 'comments_per_100k_views': 'purple' }\n",
    "\n",
    "outliers_quantile = 0.025\n",
    "min_ranges = { attr: df[attr].quantile(outliers_quantile) for attr in hist_attributes }\n",
    "max_ranges = { attr: df[attr].quantile(1 - outliers_quantile) for attr in hist_attributes }\n",
    "\n",
    "for attr in hist_attributes:\n",
    "    plt.figure(figsize=(12, 4))\n",
    "    plt.subplot(1, 2, 1)\n",
    "    plt.hist(df[attr], range=(min_ranges[attr], max_ranges[attr]), bins=10, facecolor=colors[attr])\n",
    "    plt.title(attr.replace(\"_\", \" \").title())\n",
    "  \n",
    "    plt.subplot(1, 2, 2)\n",
    "    plt.boxplot(df[attr], whis=[100 * outliers_quantile, 100 * (1 - outliers_quantile)], vert=False)\n",
    "    plt.title(attr.replace(\"_\", \" \").title())\n",
    "    \n",
    "    plt.tight_layout()\n",
    "    plt.show()"
   ]
  },
  {
   "cell_type": "markdown",
   "metadata": {},
   "source": [
    "It is not a surprise that these attrbiutes follow the [power law](https://en.wikipedia.org/wiki/Power_law), most rankings do.    \n",
    "The graphs from above do ignore `outliers_quantile` from each side (currently 2.5%).\n",
    "### Let's see what different pairs of attributes can tell us"
   ]
  },
  {
   "cell_type": "code",
   "execution_count": 8,
   "metadata": {},
   "outputs": [
    {
     "data": {
      "text/plain": [
       "published_date_parsed\n",
       "2007-04-05    20\n",
       "2008-10-31     7\n",
       "2006-06-27     6\n",
       "2013-05-08     5\n",
       "2007-04-06     5\n",
       "2007-04-16     4\n",
       "2007-07-31     3\n",
       "2006-10-31     3\n",
       "2010-01-08     3\n",
       "2009-04-22     3\n",
       "dtype: int64"
      ]
     },
     "execution_count": 8,
     "metadata": {},
     "output_type": "execute_result"
    }
   ],
   "source": [
    "# Number of talks by UTC date of published_date\n",
    "talks_by_published_date = df.groupby('published_date_parsed').apply(len).sort_values(ascending=False)\n",
    "talks_by_published_date.head(10)"
   ]
  },
  {
   "cell_type": "code",
   "execution_count": 9,
   "metadata": {},
   "outputs": [
    {
     "data": {
      "text/plain": [
       "film_date_parsed\n",
       "2017-04-24    64\n",
       "2007-03-03    54\n",
       "2009-02-06    32\n",
       "2009-02-05    30\n",
       "2011-03-02    30\n",
       "2008-02-02    29\n",
       "2013-02-28    28\n",
       "2016-02-15    28\n",
       "2012-06-26    27\n",
       "2011-07-13    27\n",
       "dtype: int64"
      ]
     },
     "execution_count": 9,
     "metadata": {},
     "output_type": "execute_result"
    }
   ],
   "source": [
    "# Number of talks by UTC date of film_date\n",
    "talks_by_film_date = df.groupby('film_date_parsed').apply(len).sort_values(ascending=False)\n",
    "talks_by_film_date.head(10)"
   ]
  },
  {
   "cell_type": "code",
   "execution_count": 10,
   "metadata": {},
   "outputs": [
    {
     "data": {
      "text/plain": [
       "event\n",
       "TED2014           84\n",
       "TED2009           83\n",
       "TED2013           77\n",
       "TED2016           77\n",
       "TED2015           75\n",
       "TED2011           70\n",
       "TEDGlobal 2012    70\n",
       "TED2010           68\n",
       "TED2007           68\n",
       "TEDGlobal 2011    68\n",
       "dtype: int64"
      ]
     },
     "execution_count": 10,
     "metadata": {},
     "output_type": "execute_result"
    }
   ],
   "source": [
    "# Number of talks by event\n",
    "talks_by_event = df.groupby('event').apply(len).sort_values(ascending=False)\n",
    "talks_by_event.head(10)"
   ]
  },
  {
   "cell_type": "code",
   "execution_count": 11,
   "metadata": {},
   "outputs": [
    {
     "data": {
      "text/html": [
       "<div>\n",
       "<style scoped>\n",
       "    .dataframe tbody tr th:only-of-type {\n",
       "        vertical-align: middle;\n",
       "    }\n",
       "\n",
       "    .dataframe tbody tr th {\n",
       "        vertical-align: top;\n",
       "    }\n",
       "\n",
       "    .dataframe thead th {\n",
       "        text-align: right;\n",
       "    }\n",
       "</style>\n",
       "<table border=\"1\" class=\"dataframe\">\n",
       "  <thead>\n",
       "    <tr style=\"text-align: right;\">\n",
       "      <th></th>\n",
       "      <th>views_per_hour_published</th>\n",
       "    </tr>\n",
       "    <tr>\n",
       "      <th>published_date_parsed</th>\n",
       "      <th></th>\n",
       "    </tr>\n",
       "  </thead>\n",
       "  <tbody>\n",
       "    <tr>\n",
       "      <th>2017-09-22</th>\n",
       "      <td>4836.426617</td>\n",
       "    </tr>\n",
       "    <tr>\n",
       "      <th>2017-09-21</th>\n",
       "      <td>3886.034542</td>\n",
       "    </tr>\n",
       "    <tr>\n",
       "      <th>2017-09-20</th>\n",
       "      <td>3237.156526</td>\n",
       "    </tr>\n",
       "    <tr>\n",
       "      <th>2017-09-18</th>\n",
       "      <td>3025.816540</td>\n",
       "    </tr>\n",
       "    <tr>\n",
       "      <th>2017-09-19</th>\n",
       "      <td>2890.010291</td>\n",
       "    </tr>\n",
       "    <tr>\n",
       "      <th>2017-09-12</th>\n",
       "      <td>2553.688016</td>\n",
       "    </tr>\n",
       "    <tr>\n",
       "      <th>2017-09-14</th>\n",
       "      <td>2349.063881</td>\n",
       "    </tr>\n",
       "    <tr>\n",
       "      <th>2017-09-06</th>\n",
       "      <td>2300.648421</td>\n",
       "    </tr>\n",
       "    <tr>\n",
       "      <th>2017-09-15</th>\n",
       "      <td>2178.258234</td>\n",
       "    </tr>\n",
       "    <tr>\n",
       "      <th>2017-09-13</th>\n",
       "      <td>1774.044398</td>\n",
       "    </tr>\n",
       "  </tbody>\n",
       "</table>\n",
       "</div>"
      ],
      "text/plain": [
       "                       views_per_hour_published\n",
       "published_date_parsed                          \n",
       "2017-09-22                          4836.426617\n",
       "2017-09-21                          3886.034542\n",
       "2017-09-20                          3237.156526\n",
       "2017-09-18                          3025.816540\n",
       "2017-09-19                          2890.010291\n",
       "2017-09-12                          2553.688016\n",
       "2017-09-14                          2349.063881\n",
       "2017-09-06                          2300.648421\n",
       "2017-09-15                          2178.258234\n",
       "2017-09-13                          1774.044398"
      ]
     },
     "execution_count": 11,
     "metadata": {},
     "output_type": "execute_result"
    }
   ],
   "source": [
    "mean_views_php_by_published_date = df.pivot_table('views_per_hour_published', 'published_date_parsed', aggfunc='mean')\n",
    "mean_views_php_by_published_date.sort_values('views_per_hour_published', ascending=False).head(10)"
   ]
  },
  {
   "cell_type": "markdown",
   "metadata": {},
   "source": [
    "Something may be fishy with the data about those most recent talks. They seem to be gathering a lot more views on average."
   ]
  },
  {
   "cell_type": "code",
   "execution_count": 12,
   "metadata": {},
   "outputs": [
    {
     "data": {
      "text/html": [
       "<div>\n",
       "<style scoped>\n",
       "    .dataframe tbody tr th:only-of-type {\n",
       "        vertical-align: middle;\n",
       "    }\n",
       "\n",
       "    .dataframe tbody tr th {\n",
       "        vertical-align: top;\n",
       "    }\n",
       "\n",
       "    .dataframe thead th {\n",
       "        text-align: right;\n",
       "    }\n",
       "</style>\n",
       "<table border=\"1\" class=\"dataframe\">\n",
       "  <thead>\n",
       "    <tr style=\"text-align: right;\">\n",
       "      <th></th>\n",
       "      <th>views_per_hour_published</th>\n",
       "    </tr>\n",
       "    <tr>\n",
       "      <th>event</th>\n",
       "      <th></th>\n",
       "    </tr>\n",
       "  </thead>\n",
       "  <tbody>\n",
       "    <tr>\n",
       "      <th>TEDGlobal 2017</th>\n",
       "      <td>2203.823751</td>\n",
       "    </tr>\n",
       "    <tr>\n",
       "      <th>TEDxZurich</th>\n",
       "      <td>1966.641964</td>\n",
       "    </tr>\n",
       "    <tr>\n",
       "      <th>TEDxMileHigh</th>\n",
       "      <td>1812.722857</td>\n",
       "    </tr>\n",
       "    <tr>\n",
       "      <th>TEDxManchester</th>\n",
       "      <td>1307.512711</td>\n",
       "    </tr>\n",
       "    <tr>\n",
       "      <th>TEDxCrenshaw</th>\n",
       "      <td>1093.530512</td>\n",
       "    </tr>\n",
       "    <tr>\n",
       "      <th>TED2017</th>\n",
       "      <td>995.486325</td>\n",
       "    </tr>\n",
       "    <tr>\n",
       "      <th>TEDxHamburg</th>\n",
       "      <td>892.739549</td>\n",
       "    </tr>\n",
       "    <tr>\n",
       "      <th>TEDxSkoll</th>\n",
       "      <td>871.765344</td>\n",
       "    </tr>\n",
       "    <tr>\n",
       "      <th>TEDxPennsylvaniaAvenue</th>\n",
       "      <td>796.266050</td>\n",
       "    </tr>\n",
       "    <tr>\n",
       "      <th>TEDxGhent</th>\n",
       "      <td>761.001078</td>\n",
       "    </tr>\n",
       "  </tbody>\n",
       "</table>\n",
       "</div>"
      ],
      "text/plain": [
       "                        views_per_hour_published\n",
       "event                                           \n",
       "TEDGlobal 2017                       2203.823751\n",
       "TEDxZurich                           1966.641964\n",
       "TEDxMileHigh                         1812.722857\n",
       "TEDxManchester                       1307.512711\n",
       "TEDxCrenshaw                         1093.530512\n",
       "TED2017                               995.486325\n",
       "TEDxHamburg                           892.739549\n",
       "TEDxSkoll                             871.765344\n",
       "TEDxPennsylvaniaAvenue                796.266050\n",
       "TEDxGhent                             761.001078"
      ]
     },
     "execution_count": 12,
     "metadata": {},
     "output_type": "execute_result"
    }
   ],
   "source": [
    "mean_views_php_by_event = df.pivot_table(['views_per_hour_published'], ['event'], aggfunc='mean')\n",
    "mean_views_php_by_event.sort_values('views_per_hour_published', ascending=False).head(10)"
   ]
  },
  {
   "cell_type": "markdown",
   "metadata": {},
   "source": [
    " Or maybe there was indeed bigger audience at TEDGlobal 2017 which was watching the streams."
   ]
  },
  {
   "cell_type": "code",
   "execution_count": 13,
   "metadata": {},
   "outputs": [
    {
     "name": "stdout",
     "output_type": "stream",
     "text": [
      "Correlations: \n"
     ]
    },
    {
     "data": {
      "text/html": [
       "<div>\n",
       "<style scoped>\n",
       "    .dataframe tbody tr th:only-of-type {\n",
       "        vertical-align: middle;\n",
       "    }\n",
       "\n",
       "    .dataframe tbody tr th {\n",
       "        vertical-align: top;\n",
       "    }\n",
       "\n",
       "    .dataframe thead th {\n",
       "        text-align: right;\n",
       "    }\n",
       "</style>\n",
       "<table border=\"1\" class=\"dataframe\">\n",
       "  <thead>\n",
       "    <tr style=\"text-align: right;\">\n",
       "      <th></th>\n",
       "      <th>comments</th>\n",
       "      <th>duration</th>\n",
       "      <th>film_date</th>\n",
       "      <th>languages</th>\n",
       "      <th>num_speaker</th>\n",
       "      <th>published_date</th>\n",
       "      <th>views</th>\n",
       "      <th>views_per_hour_published</th>\n",
       "      <th>comments_per_week_published</th>\n",
       "      <th>comments_per_100k_views</th>\n",
       "    </tr>\n",
       "  </thead>\n",
       "  <tbody>\n",
       "    <tr>\n",
       "      <th>comments</th>\n",
       "      <td>1.000000</td>\n",
       "      <td>0.140694</td>\n",
       "      <td>-0.133303</td>\n",
       "      <td>0.318284</td>\n",
       "      <td>-0.035489</td>\n",
       "      <td>-0.185936</td>\n",
       "      <td>0.530939</td>\n",
       "      <td>-0.034791</td>\n",
       "      <td>0.343277</td>\n",
       "      <td>0.478633</td>\n",
       "    </tr>\n",
       "    <tr>\n",
       "      <th>duration</th>\n",
       "      <td>0.140694</td>\n",
       "      <td>1.000000</td>\n",
       "      <td>-0.242941</td>\n",
       "      <td>-0.295681</td>\n",
       "      <td>0.022257</td>\n",
       "      <td>-0.166324</td>\n",
       "      <td>0.048740</td>\n",
       "      <td>-0.019562</td>\n",
       "      <td>0.073818</td>\n",
       "      <td>0.116533</td>\n",
       "    </tr>\n",
       "    <tr>\n",
       "      <th>film_date</th>\n",
       "      <td>-0.133303</td>\n",
       "      <td>-0.242941</td>\n",
       "      <td>1.000000</td>\n",
       "      <td>-0.061957</td>\n",
       "      <td>0.040227</td>\n",
       "      <td>0.902565</td>\n",
       "      <td>0.006447</td>\n",
       "      <td>0.339194</td>\n",
       "      <td>0.285062</td>\n",
       "      <td>-0.217449</td>\n",
       "    </tr>\n",
       "    <tr>\n",
       "      <th>languages</th>\n",
       "      <td>0.318284</td>\n",
       "      <td>-0.295681</td>\n",
       "      <td>-0.061957</td>\n",
       "      <td>1.000000</td>\n",
       "      <td>-0.063100</td>\n",
       "      <td>-0.171836</td>\n",
       "      <td>0.377623</td>\n",
       "      <td>-0.266792</td>\n",
       "      <td>-0.109355</td>\n",
       "      <td>-0.107787</td>\n",
       "    </tr>\n",
       "    <tr>\n",
       "      <th>num_speaker</th>\n",
       "      <td>-0.035489</td>\n",
       "      <td>0.022257</td>\n",
       "      <td>0.040227</td>\n",
       "      <td>-0.063100</td>\n",
       "      <td>1.000000</td>\n",
       "      <td>0.049240</td>\n",
       "      <td>-0.026389</td>\n",
       "      <td>0.007288</td>\n",
       "      <td>0.010853</td>\n",
       "      <td>-0.021189</td>\n",
       "    </tr>\n",
       "    <tr>\n",
       "      <th>published_date</th>\n",
       "      <td>-0.185936</td>\n",
       "      <td>-0.166324</td>\n",
       "      <td>0.902565</td>\n",
       "      <td>-0.171836</td>\n",
       "      <td>0.049240</td>\n",
       "      <td>1.000000</td>\n",
       "      <td>-0.017920</td>\n",
       "      <td>0.398272</td>\n",
       "      <td>0.315747</td>\n",
       "      <td>-0.280663</td>\n",
       "    </tr>\n",
       "    <tr>\n",
       "      <th>views</th>\n",
       "      <td>0.530939</td>\n",
       "      <td>0.048740</td>\n",
       "      <td>0.006447</td>\n",
       "      <td>0.377623</td>\n",
       "      <td>-0.026389</td>\n",
       "      <td>-0.017920</td>\n",
       "      <td>1.000000</td>\n",
       "      <td>0.155587</td>\n",
       "      <td>0.207927</td>\n",
       "      <td>-0.147298</td>\n",
       "    </tr>\n",
       "    <tr>\n",
       "      <th>views_per_hour_published</th>\n",
       "      <td>-0.034791</td>\n",
       "      <td>-0.019562</td>\n",
       "      <td>0.339194</td>\n",
       "      <td>-0.266792</td>\n",
       "      <td>0.007288</td>\n",
       "      <td>0.398272</td>\n",
       "      <td>0.155587</td>\n",
       "      <td>1.000000</td>\n",
       "      <td>0.713430</td>\n",
       "      <td>-0.194598</td>\n",
       "    </tr>\n",
       "    <tr>\n",
       "      <th>comments_per_week_published</th>\n",
       "      <td>0.343277</td>\n",
       "      <td>0.073818</td>\n",
       "      <td>0.285062</td>\n",
       "      <td>-0.109355</td>\n",
       "      <td>0.010853</td>\n",
       "      <td>0.315747</td>\n",
       "      <td>0.207927</td>\n",
       "      <td>0.713430</td>\n",
       "      <td>1.000000</td>\n",
       "      <td>0.095678</td>\n",
       "    </tr>\n",
       "    <tr>\n",
       "      <th>comments_per_100k_views</th>\n",
       "      <td>0.478633</td>\n",
       "      <td>0.116533</td>\n",
       "      <td>-0.217449</td>\n",
       "      <td>-0.107787</td>\n",
       "      <td>-0.021189</td>\n",
       "      <td>-0.280663</td>\n",
       "      <td>-0.147298</td>\n",
       "      <td>-0.194598</td>\n",
       "      <td>0.095678</td>\n",
       "      <td>1.000000</td>\n",
       "    </tr>\n",
       "  </tbody>\n",
       "</table>\n",
       "</div>"
      ],
      "text/plain": [
       "                             comments  duration  film_date  languages  \\\n",
       "comments                     1.000000  0.140694  -0.133303   0.318284   \n",
       "duration                     0.140694  1.000000  -0.242941  -0.295681   \n",
       "film_date                   -0.133303 -0.242941   1.000000  -0.061957   \n",
       "languages                    0.318284 -0.295681  -0.061957   1.000000   \n",
       "num_speaker                 -0.035489  0.022257   0.040227  -0.063100   \n",
       "published_date              -0.185936 -0.166324   0.902565  -0.171836   \n",
       "views                        0.530939  0.048740   0.006447   0.377623   \n",
       "views_per_hour_published    -0.034791 -0.019562   0.339194  -0.266792   \n",
       "comments_per_week_published  0.343277  0.073818   0.285062  -0.109355   \n",
       "comments_per_100k_views      0.478633  0.116533  -0.217449  -0.107787   \n",
       "\n",
       "                             num_speaker  published_date     views  \\\n",
       "comments                       -0.035489       -0.185936  0.530939   \n",
       "duration                        0.022257       -0.166324  0.048740   \n",
       "film_date                       0.040227        0.902565  0.006447   \n",
       "languages                      -0.063100       -0.171836  0.377623   \n",
       "num_speaker                     1.000000        0.049240 -0.026389   \n",
       "published_date                  0.049240        1.000000 -0.017920   \n",
       "views                          -0.026389       -0.017920  1.000000   \n",
       "views_per_hour_published        0.007288        0.398272  0.155587   \n",
       "comments_per_week_published     0.010853        0.315747  0.207927   \n",
       "comments_per_100k_views        -0.021189       -0.280663 -0.147298   \n",
       "\n",
       "                             views_per_hour_published  \\\n",
       "comments                                    -0.034791   \n",
       "duration                                    -0.019562   \n",
       "film_date                                    0.339194   \n",
       "languages                                   -0.266792   \n",
       "num_speaker                                  0.007288   \n",
       "published_date                               0.398272   \n",
       "views                                        0.155587   \n",
       "views_per_hour_published                     1.000000   \n",
       "comments_per_week_published                  0.713430   \n",
       "comments_per_100k_views                     -0.194598   \n",
       "\n",
       "                             comments_per_week_published  \\\n",
       "comments                                        0.343277   \n",
       "duration                                        0.073818   \n",
       "film_date                                       0.285062   \n",
       "languages                                      -0.109355   \n",
       "num_speaker                                     0.010853   \n",
       "published_date                                  0.315747   \n",
       "views                                           0.207927   \n",
       "views_per_hour_published                        0.713430   \n",
       "comments_per_week_published                     1.000000   \n",
       "comments_per_100k_views                         0.095678   \n",
       "\n",
       "                             comments_per_100k_views  \n",
       "comments                                    0.478633  \n",
       "duration                                    0.116533  \n",
       "film_date                                  -0.217449  \n",
       "languages                                  -0.107787  \n",
       "num_speaker                                -0.021189  \n",
       "published_date                             -0.280663  \n",
       "views                                      -0.147298  \n",
       "views_per_hour_published                   -0.194598  \n",
       "comments_per_week_published                 0.095678  \n",
       "comments_per_100k_views                     1.000000  "
      ]
     },
     "execution_count": 13,
     "metadata": {},
     "output_type": "execute_result"
    }
   ],
   "source": [
    "print(\"Correlations: \")\n",
    "df.corr()"
   ]
  },
  {
   "cell_type": "markdown",
   "metadata": {},
   "source": [
    "Pairs of variables with some correlation:\n",
    "\n",
    "- comments, views (and normalized versions) - obvious relationship - it is expected that talks with more views will have more comments and vice versa\n",
    "- film_date, published_date - obvious\n",
    "\n",
    "\n",
    "- comments, languages - talks accessible to broader audience (languages) can get more comments, but possbily the \"languages\" (number of transcripts) capture the age of the video, which naturally correlates to the number of comments\n",
    "- views, languages - same as above (but for views)\n",
    "\n",
    "\n",
    "- comments_per_week_published, published_date/film_date - probably guessing the rate at which comments come\n",
    "- views_per_hour_published, published_date/film_date - same as above (but for views)\n",
    "- comments_per_100k_views, published_date - the newer talks seem to attract less comments (normalized by the views), but this may be skewed by outliers (very new videos, still not enough views)\n",
    "\n",
    "\n",
    "- views_per_hour_published, languages - interestingly, there may be less views (normalized by the time the video was available) for talks that have transcripts in many languages (and vice versa - videos with a lot of views tend not to have multiple transcripts)? the correlation is quite low though\n",
    "- languages, duration - this seems natural - longer videos tend to have less transcripts (because it's a harder work to transcribe them)\n",
    "\n",
    "\n",
    "No strong and interesting relationships where observed between the pairs of numeric attributes."
   ]
  },
  {
   "cell_type": "code",
   "execution_count": 14,
   "metadata": {},
   "outputs": [
    {
     "data": {
      "image/png": "[encoded data removed]",
      "text/plain": [
       "<Figure size 864x288 with 2 Axes>"
      ]
     },
     "metadata": {
      "needs_background": "light"
     },
     "output_type": "display_data"
    }
   ],
   "source": [
    "# Scatter plots of comments/views and their normalized variants\n",
    "plt.figure(figsize=(12, 4))\n",
    "plt.subplot(1, 2, 1)\n",
    "plt.title(\"Comments (x) vs Views (y)\")\n",
    "plt.scatter(df['comments'], df['views'])\n",
    "plt.subplot(1, 2, 2)\n",
    "plt.title(\"comments_per_week_published (x) vs views_per_hour_published (y)\")\n",
    "plt.scatter(df['comments_per_week_published'], df['views_per_hour_published'])\n",
    "plt.show()"
   ]
  },
  {
   "cell_type": "markdown",
   "metadata": {},
   "source": [
    "### Let's explore more of the non-numeric attributes now"
   ]
  },
  {
   "cell_type": "code",
   "execution_count": 15,
   "metadata": {},
   "outputs": [
    {
     "data": {
      "image/png": "[encoded data removed]",
      "text/plain": [
       "<Figure size 864x576 with 1 Axes>"
      ]
     },
     "metadata": {
      "needs_background": "light"
     },
     "output_type": "display_data"
    }
   ],
   "source": [
    "# Removing some outliers first\n",
    "min_views_php = df['views_per_hour_published'].quantile(0.05)\n",
    "max_views_php = df['views_per_hour_published'].quantile(0.9)\n",
    "\n",
    "non_outlier_talks = df[(df['views_per_hour_published'] >= min_views_php) & (df['views_per_hour_published'] <= max_views_php)]\n",
    "id_by_event = { event: index for index, event in enumerate(set(df['event'])) }\n",
    "\n",
    "plt.figure(figsize=(12, 8))\n",
    "plt.scatter(non_outlier_talks['event'].apply(lambda event: id_by_event[event]), non_outlier_talks['views_per_hour_published'])\n",
    "plt.title(\"Views PHP by event id (x)\")\n",
    "plt.show()"
   ]
  },
  {
   "cell_type": "code",
   "execution_count": 16,
   "metadata": {},
   "outputs": [
    {
     "name": "stdout",
     "output_type": "stream",
     "text": [
      "Events by type:\n",
      "\n",
      "ted_main: 978\n",
      "ted_x: 471\n",
      "ted_global: 463\n",
      "ted_women: 96\n",
      "ted_salon: 79\n",
      "ted_med: 68\n",
      "ted_youth: 19\n",
      "other_ted: 265\n",
      "not_ted: 111\n",
      "\n",
      "sum:  2550\n",
      "all:  2550\n",
      "\n",
      "unique other events:  45\n"
     ]
    }
   ],
   "source": [
    "# Sort events into several \"types\"\n",
    "ted_type_regexes = {\n",
    "    'ted_main': re.compile('^ted\\s?\\d{4}.*', flags=re.IGNORECASE),\n",
    "    'ted_x': re.compile('^ted\\s?x.*', flags=re.IGNORECASE),\n",
    "    'ted_global': re.compile('^ted\\s?global.*', flags=re.IGNORECASE),\n",
    "    'ted_women': re.compile('^ted\\s?women.*', flags=re.IGNORECASE),\n",
    "    'ted_salon': re.compile('^ted\\s?salon.*', flags=re.IGNORECASE),\n",
    "    'ted_med': re.compile('^ted\\s?med.*', flags=re.IGNORECASE),\n",
    "    'ted_youth': re.compile('^ted\\s?youth.*', flags=re.IGNORECASE),\n",
    "}\n",
    "ted_all_regex = re.compile('^ted.*', flags=re.IGNORECASE)\n",
    "\n",
    "talks_by_event_type = {}\n",
    "for ted_type, regex in ted_type_regexes.items():\n",
    "    talks_by_event_type[ted_type] = df[df['event'].apply(lambda event : regex.match(event) is not None)]\n",
    "\n",
    "other_ted_lambda = lambda event: ted_all_regex.match(event) is not None and all(ted_type_regexes[ted_type].match(event) is None for ted_type in ted_type_regexes)\n",
    "talks_by_event_type['other_ted'] = df[df['event'].apply(other_ted_lambda)]\n",
    "talks_by_event_type['not_ted'] = df[df['event'].apply(lambda event : ted_all_regex.match(event) is None)]\n",
    "\n",
    "print(\"Events by type:\\n\")\n",
    "for event_type, events in talks_by_event_type.items():\n",
    "    print(\"{type}: {count}\".format(type=event_type, count=events['event'].count()))\n",
    "print(\"\\nsum: \", sum([events['event'].count() for event_type, events in talks_by_event_type.items()]))\n",
    "print(\"all: \", len(df['event']))\n",
    "\n",
    "print(\"\\nunique other events: \", len(set(talks_by_event_type['other_ted']['event'])))\n",
    "# list(set(talks_by_event_type['other_ted']['event']))"
   ]
  },
  {
   "cell_type": "code",
   "execution_count": 17,
   "metadata": {},
   "outputs": [
    {
     "data": {
      "image/png": "[encoded data removed]",
      "text/plain": [
       "<Figure size 864x576 with 1 Axes>"
      ]
     },
     "metadata": {
      "needs_background": "light"
     },
     "output_type": "display_data"
    }
   ],
   "source": [
    "x = []\n",
    "y = []\n",
    "\n",
    "for event_type, talks in talks_by_event_type.items():\n",
    "    non_outlier_talks = talks[(talks['views_per_hour_published'] >= min_views_php) & (talks['views_per_hour_published'] <= max_views_php)]\n",
    "    x.extend([event_type] * len(non_outlier_talks))\n",
    "    y.extend(non_outlier_talks['views_per_hour_published'])\n",
    "\n",
    "plt.figure(figsize=(12, 8))\n",
    "plt.scatter(x, y)\n",
    "plt.title(\"Views PHP by event type\")\n",
    "plt.show()"
   ]
  },
  {
   "cell_type": "code",
   "execution_count": 18,
   "metadata": {},
   "outputs": [
    {
     "data": {
      "image/png": "[encoded data removed]",
      "text/plain": [
       "<Figure size 864x576 with 1 Axes>"
      ]
     },
     "metadata": {
      "needs_background": "light"
     },
     "output_type": "display_data"
    }
   ],
   "source": [
    "x = [event_type for event_type, talks in talks_by_event_type.items()]\n",
    "y = [talks['views_per_hour_published'].mean() for event_type, talks in talks_by_event_type.items()]\n",
    "\n",
    "plt.figure(figsize=(12, 8))\n",
    "plt.bar(x, y)\n",
    "plt.title(\"Mean views PHP by event type\")\n",
    "plt.show()"
   ]
  },
  {
   "cell_type": "markdown",
   "metadata": {},
   "source": [
    "There might be something useful in the event type, or maybe we simply don't have enough data for some of the types.    \n",
    "Turning our attention to `tags` now."
   ]
  },
  {
   "cell_type": "code",
   "execution_count": 19,
   "metadata": {},
   "outputs": [
    {
     "data": {
      "image/png": "[encoded data removed]",
      "text/plain": [
       "<Figure size 432x288 with 1 Axes>"
      ]
     },
     "metadata": {
      "needs_background": "light"
     },
     "output_type": "display_data"
    },
    {
     "data": {
      "text/plain": [
       "count    2550.000000\n",
       "mean        7.511373\n",
       "std         4.309849\n",
       "min         1.000000\n",
       "25%         5.000000\n",
       "50%         6.000000\n",
       "75%         9.000000\n",
       "max        32.000000\n",
       "Name: tags, dtype: float64"
      ]
     },
     "execution_count": 19,
     "metadata": {},
     "output_type": "execute_result"
    }
   ],
   "source": [
    "# Check the distribution for the number of tags added to a talk\n",
    "plt.title(\"Distribution for number of tags per talk\")\n",
    "res = plt.hist(df['tags'].apply(len), bins=10)\n",
    "plt.show()\n",
    "df['tags'].apply(len).describe()"
   ]
  },
  {
   "cell_type": "code",
   "execution_count": 20,
   "metadata": {},
   "outputs": [
    {
     "name": "stdout",
     "output_type": "stream",
     "text": [
      "416 unique tags\n"
     ]
    }
   ],
   "source": [
    "# Extract the unique tags and see how much they are\n",
    "unique_tags = set(flatten(df['tags']))\n",
    "print(len(unique_tags), \"unique tags\")"
   ]
  },
  {
   "cell_type": "code",
   "execution_count": 21,
   "metadata": {},
   "outputs": [
    {
     "data": {
      "text/html": [
       "<div>\n",
       "<style scoped>\n",
       "    .dataframe tbody tr th:only-of-type {\n",
       "        vertical-align: middle;\n",
       "    }\n",
       "\n",
       "    .dataframe tbody tr th {\n",
       "        vertical-align: top;\n",
       "    }\n",
       "\n",
       "    .dataframe thead th {\n",
       "        text-align: right;\n",
       "    }\n",
       "</style>\n",
       "<table border=\"1\" class=\"dataframe\">\n",
       "  <thead>\n",
       "    <tr style=\"text-align: right;\">\n",
       "      <th></th>\n",
       "      <th>talk_count</th>\n",
       "      <th>mean_views_php</th>\n",
       "    </tr>\n",
       "  </thead>\n",
       "  <tbody>\n",
       "    <tr>\n",
       "      <th>public spaces</th>\n",
       "      <td>18</td>\n",
       "      <td>510.495537</td>\n",
       "    </tr>\n",
       "    <tr>\n",
       "      <th>friendship</th>\n",
       "      <td>11</td>\n",
       "      <td>492.697603</td>\n",
       "    </tr>\n",
       "    <tr>\n",
       "      <th>capitalism</th>\n",
       "      <td>13</td>\n",
       "      <td>488.549244</td>\n",
       "    </tr>\n",
       "    <tr>\n",
       "      <th>Mars</th>\n",
       "      <td>12</td>\n",
       "      <td>485.337218</td>\n",
       "    </tr>\n",
       "    <tr>\n",
       "      <th>Human body</th>\n",
       "      <td>10</td>\n",
       "      <td>462.994145</td>\n",
       "    </tr>\n",
       "    <tr>\n",
       "      <th>play</th>\n",
       "      <td>18</td>\n",
       "      <td>458.112723</td>\n",
       "    </tr>\n",
       "    <tr>\n",
       "      <th>United States</th>\n",
       "      <td>30</td>\n",
       "      <td>431.438517</td>\n",
       "    </tr>\n",
       "    <tr>\n",
       "      <th>immigration</th>\n",
       "      <td>14</td>\n",
       "      <td>403.101219</td>\n",
       "    </tr>\n",
       "    <tr>\n",
       "      <th>astrobiology</th>\n",
       "      <td>11</td>\n",
       "      <td>377.260415</td>\n",
       "    </tr>\n",
       "    <tr>\n",
       "      <th>personal growth</th>\n",
       "      <td>96</td>\n",
       "      <td>342.837092</td>\n",
       "    </tr>\n",
       "    <tr>\n",
       "      <th>manufacturing</th>\n",
       "      <td>16</td>\n",
       "      <td>328.501374</td>\n",
       "    </tr>\n",
       "    <tr>\n",
       "      <th>South America</th>\n",
       "      <td>14</td>\n",
       "      <td>327.271259</td>\n",
       "    </tr>\n",
       "    <tr>\n",
       "      <th>work-life balance</th>\n",
       "      <td>14</td>\n",
       "      <td>321.870407</td>\n",
       "    </tr>\n",
       "    <tr>\n",
       "      <th>farming</th>\n",
       "      <td>10</td>\n",
       "      <td>317.750286</td>\n",
       "    </tr>\n",
       "    <tr>\n",
       "      <th>AI</th>\n",
       "      <td>43</td>\n",
       "      <td>315.408349</td>\n",
       "    </tr>\n",
       "    <tr>\n",
       "      <th>relationships</th>\n",
       "      <td>29</td>\n",
       "      <td>311.610030</td>\n",
       "    </tr>\n",
       "    <tr>\n",
       "      <th>TEDNYC</th>\n",
       "      <td>19</td>\n",
       "      <td>308.974807</td>\n",
       "    </tr>\n",
       "    <tr>\n",
       "      <th>TEDMED</th>\n",
       "      <td>19</td>\n",
       "      <td>308.038642</td>\n",
       "    </tr>\n",
       "    <tr>\n",
       "      <th>intelligence</th>\n",
       "      <td>50</td>\n",
       "      <td>307.678479</td>\n",
       "    </tr>\n",
       "    <tr>\n",
       "      <th>race</th>\n",
       "      <td>43</td>\n",
       "      <td>306.511779</td>\n",
       "    </tr>\n",
       "  </tbody>\n",
       "</table>\n",
       "</div>"
      ],
      "text/plain": [
       "                   talk_count  mean_views_php\n",
       "public spaces              18      510.495537\n",
       "friendship                 11      492.697603\n",
       "capitalism                 13      488.549244\n",
       "Mars                       12      485.337218\n",
       "Human body                 10      462.994145\n",
       "play                       18      458.112723\n",
       "United States              30      431.438517\n",
       "immigration                14      403.101219\n",
       "astrobiology               11      377.260415\n",
       "personal growth            96      342.837092\n",
       "manufacturing              16      328.501374\n",
       "South America              14      327.271259\n",
       "work-life balance          14      321.870407\n",
       "farming                    10      317.750286\n",
       "AI                         43      315.408349\n",
       "relationships              29      311.610030\n",
       "TEDNYC                     19      308.974807\n",
       "TEDMED                     19      308.038642\n",
       "intelligence               50      307.678479\n",
       "race                       43      306.511779"
      ]
     },
     "execution_count": 21,
     "metadata": {},
     "output_type": "execute_result"
    }
   ],
   "source": [
    "# Make an index of talks by tag and get the top tags\n",
    "talk_indices_by_tag = defaultdict(list)\n",
    "for index, entry in df.iterrows():\n",
    "    for tag in entry['tags']:\n",
    "        talk_indices_by_tag[tag].append(index)\n",
    "\n",
    "talk_data_by_tag = { tag : [len(talk_indices), df.iloc[talk_indices]['views_per_hour_published'].mean()] for tag, talk_indices in talk_indices_by_tag.items() }\n",
    "tag_df = pd.DataFrame.from_dict(talk_data_by_tag, orient='index', columns=['talk_count', 'mean_views_php']).sort_values('mean_views_php', ascending=False)\n",
    "\n",
    "# Remove outliers for the mean\n",
    "tag_df[tag_df['talk_count'] >= tag_df['talk_count'].quantile(0.25)].head(20)"
   ]
  },
  {
   "cell_type": "markdown",
   "metadata": {},
   "source": [
    "Seems tags might also be useful in predicting views per hour published. \n",
    "\n",
    "\n",
    "We've seen that the `num_spekers` attrbiute does not correlate with the rest of the numeric ones, but let's delve some further into the `main_speaker` info."
   ]
  },
  {
   "cell_type": "code",
   "execution_count": 22,
   "metadata": {},
   "outputs": [
    {
     "data": {
      "text/plain": [
       "count    2156.000000\n",
       "mean        1.182746\n",
       "std         0.574799\n",
       "min         1.000000\n",
       "25%         1.000000\n",
       "50%         1.000000\n",
       "75%         1.000000\n",
       "max         9.000000\n",
       "dtype: float64"
      ]
     },
     "execution_count": 22,
     "metadata": {},
     "output_type": "execute_result"
    }
   ],
   "source": [
    "df.groupby('main_speaker').apply(len).describe()"
   ]
  },
  {
   "cell_type": "markdown",
   "metadata": {},
   "source": [
    "Seems most speakers have exactly 1 talk, so this cannot help us much in estimating views/comments."
   ]
  },
  {
   "cell_type": "code",
   "execution_count": 23,
   "metadata": {},
   "outputs": [
    {
     "data": {
      "text/plain": [
       "count    1458.000000\n",
       "mean        1.744856\n",
       "std         2.995889\n",
       "min         1.000000\n",
       "25%         1.000000\n",
       "50%         1.000000\n",
       "75%         1.000000\n",
       "max        45.000000\n",
       "dtype: float64"
      ]
     },
     "execution_count": 23,
     "metadata": {},
     "output_type": "execute_result"
    }
   ],
   "source": [
    "df.groupby('speaker_occupation').apply(len).describe()"
   ]
  },
  {
   "cell_type": "markdown",
   "metadata": {},
   "source": [
    "Same goes for `speaker_occupation` - the unique occupations are 1458 for a total of 2550 talks - on average there are only 1.744856 talks with the same `speaker_occupation` (heavily skewed to the right, as seen by the third quantile which still has a value of 1.0)."
   ]
  },
  {
   "cell_type": "markdown",
   "metadata": {},
   "source": [
    "### Recap\n",
    "We've normalized the views and comments by the time the video was available.\n",
    "In following experiments we advise that `views_per_hours_published` should be used as the target variable.\n",
    "\n",
    "We've observed how both views and comments (and their normalized versions) do follow the power law as expected.\n",
    "\n",
    "We've seen that most of the numeric attributes do not directly correlate with the `views_per_hours_published` (outside the trivial comment-based atributes).   \n",
    "The `published_date_parsed`, `tags` and \"event type\" were selected as potential source of knowledge, the last of which is a grouping of sorts of all the different `event` names into several bigger buckets like TedX, TedGlobal, etc.\n",
    "\n",
    "Further insides for a model may be extracted based on some of the textual attributes - `title` and `description` (or even the full transcript). This is yet to be pursued.\n",
    "\n",
    "The `ratings` were ignored in this exploration, as the expectation is that they are added after a talk is already viewed. They might however contain some useful data (e.g. people loved the talk, so we expect they'll spread the word and bring in more views).\n",
    "Similarly, `related_talks` might contain useful information, but they fell out of scope for this analysis."
   ]
  }
 ],
 "metadata": {
  "kernelspec": {
   "display_name": "Python 3",
   "language": "python",
   "name": "python3"
  },
  "language_info": {
   "codemirror_mode": {
    "name": "ipython",
    "version": 3
   },
   "file_extension": ".py",
   "mimetype": "text/x-python",
   "name": "python",
   "nbconvert_exporter": "python",
   "pygments_lexer": "ipython3",
   "version": "3.7.3"
  }
 },
 "nbformat": 4,
 "nbformat_minor": 2
}
